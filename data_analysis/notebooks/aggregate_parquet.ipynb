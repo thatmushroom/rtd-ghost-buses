{
 "cells": [
  {
   "attachments": {},
   "cell_type": "markdown",
   "metadata": {},
   "source": [
    "# Aggregate \n",
    "Following on from \"rt_daily_aggregations\" (which, for RTD, has been slimmed down to processing data), aggregates observations"
   ]
  },
  {
   "cell_type": "code",
   "execution_count": 3,
   "metadata": {},
   "outputs": [],
   "source": [
    "import pandas as pd\n",
    "import dask.dataframe as dd\n",
    "import boto3"
   ]
  },
  {
   "cell_type": "code",
   "execution_count": 4,
   "metadata": {},
   "outputs": [],
   "source": [
    "\"\"\" Assemble pb to parquet dataframes, one per day \"\"\"\n",
    "import sys\n",
    "from google.protobuf.json_format import MessageToJson\n",
    "import json\n",
    "from google.transit import gtfs_realtime_pb2\n",
    "from io import BytesIO\n",
    "import boto3\n",
    "import pandas as pd\n",
    "import pendulum\n",
    "import dask.dataframe as dd"
   ]
  },
  {
   "cell_type": "code",
   "execution_count": null,
   "metadata": {},
   "outputs": [],
   "source": [
    "# Step "
   ]
  },
  {
   "attachments": {},
   "cell_type": "markdown",
   "metadata": {},
   "source": [
    "## Step 1\n",
    "Create a dask dataframe from parquet files.\n",
    "For development, add method to GTFSdata . Update combine_daily_files later"
   ]
  },
  {
   "cell_type": "code",
   "execution_count": 6,
   "metadata": {},
   "outputs": [],
   "source": [
    "import sys\n",
    "sys.path\n",
    "sys.path.append('c:\\\\Users\\\\Chris\\\\CodingProjects\\\\rtd-ghost-buses\\\\')\n",
    "# from  scrape_data.parse_data import gtfs_decode\n",
    "from scrape_data.combine_daily_files import GTFSdata, VehiclePosition, TripUpdate, Alerts"
   ]
  },
  {
   "cell_type": "code",
   "execution_count": 8,
   "metadata": {},
   "outputs": [],
   "source": [
    "def generate_dask_dataframe(self):\n",
    "    s3_prefix = f\"processed/{self.data_type}/*.parquet\"\n",
    "    "
   ]
  },
  {
   "cell_type": "code",
   "execution_count": 11,
   "metadata": {},
   "outputs": [
    {
     "data": {
      "text/plain": [
       "'s3://rtd-ghost-buses-private/processed/TripUpdate/*.parquet'"
      ]
     },
     "execution_count": 11,
     "metadata": {},
     "output_type": "execute_result"
    }
   ],
   "source": [
    "s3_prefix = f\"processed/TripUpdate/*.parquet\"\n",
    "s3_path = f\"s3://rtd-ghost-buses-private/{s3_prefix}\"\n",
    "s3_path"
   ]
  },
  {
   "cell_type": "code",
   "execution_count": 14,
   "metadata": {},
   "outputs": [
    {
     "data": {
      "text/html": [
       "<div>\n",
       "<style scoped>\n",
       "    .dataframe tbody tr th:only-of-type {\n",
       "        vertical-align: middle;\n",
       "    }\n",
       "\n",
       "    .dataframe tbody tr th {\n",
       "        vertical-align: top;\n",
       "    }\n",
       "\n",
       "    .dataframe thead th {\n",
       "        text-align: right;\n",
       "    }\n",
       "</style>\n",
       "<table border=\"1\" class=\"dataframe\">\n",
       "  <thead>\n",
       "    <tr style=\"text-align: right;\">\n",
       "      <th></th>\n",
       "      <th>id</th>\n",
       "      <th>tripUpdate.trip.tripId</th>\n",
       "      <th>tripUpdate.trip.scheduleRelationship</th>\n",
       "      <th>tripUpdate.trip.routeId</th>\n",
       "      <th>tripUpdate.trip.directionId</th>\n",
       "      <th>tripUpdate.stopTimeUpdate</th>\n",
       "      <th>tripUpdate.vehicle.id</th>\n",
       "      <th>tripUpdate.vehicle.label</th>\n",
       "      <th>header.timestamp</th>\n",
       "      <th>filename</th>\n",
       "    </tr>\n",
       "  </thead>\n",
       "  <tbody>\n",
       "    <tr>\n",
       "      <th>0</th>\n",
       "      <td>1672556583_114253564</td>\n",
       "      <td>114253564</td>\n",
       "      <td>CANCELED</td>\n",
       "      <td>101E</td>\n",
       "      <td>0</td>\n",
       "      <td>None</td>\n",
       "      <td>None</td>\n",
       "      <td>None</td>\n",
       "      <td>2023-01-01 07:03:03</td>\n",
       "      <td>bus_data_TripUpdate/2023-01-01T00:03:12.767143...</td>\n",
       "    </tr>\n",
       "    <tr>\n",
       "      <th>0</th>\n",
       "      <td>1672556583_114253883</td>\n",
       "      <td>114253883</td>\n",
       "      <td>CANCELED</td>\n",
       "      <td>101E</td>\n",
       "      <td>1</td>\n",
       "      <td>None</td>\n",
       "      <td>None</td>\n",
       "      <td>None</td>\n",
       "      <td>2023-01-01 07:03:03</td>\n",
       "      <td>bus_data_TripUpdate/2023-01-01T00:03:12.767143...</td>\n",
       "    </tr>\n",
       "    <tr>\n",
       "      <th>0</th>\n",
       "      <td>1672556583_114253884</td>\n",
       "      <td>114253884</td>\n",
       "      <td>CANCELED</td>\n",
       "      <td>101E</td>\n",
       "      <td>1</td>\n",
       "      <td>None</td>\n",
       "      <td>None</td>\n",
       "      <td>None</td>\n",
       "      <td>2023-01-01 07:03:03</td>\n",
       "      <td>bus_data_TripUpdate/2023-01-01T00:03:12.767143...</td>\n",
       "    </tr>\n",
       "    <tr>\n",
       "      <th>0</th>\n",
       "      <td>1672556583_114254175</td>\n",
       "      <td>114254175</td>\n",
       "      <td>CANCELED</td>\n",
       "      <td>101H</td>\n",
       "      <td>0</td>\n",
       "      <td>None</td>\n",
       "      <td>None</td>\n",
       "      <td>None</td>\n",
       "      <td>2023-01-01 07:03:03</td>\n",
       "      <td>bus_data_TripUpdate/2023-01-01T00:03:12.767143...</td>\n",
       "    </tr>\n",
       "    <tr>\n",
       "      <th>0</th>\n",
       "      <td>1672556583_114254183</td>\n",
       "      <td>114254183</td>\n",
       "      <td>CANCELED</td>\n",
       "      <td>101H</td>\n",
       "      <td>0</td>\n",
       "      <td>None</td>\n",
       "      <td>None</td>\n",
       "      <td>None</td>\n",
       "      <td>2023-01-01 07:03:03</td>\n",
       "      <td>bus_data_TripUpdate/2023-01-01T00:03:12.767143...</td>\n",
       "    </tr>\n",
       "  </tbody>\n",
       "</table>\n",
       "</div>"
      ],
      "text/plain": [
       "                     id tripUpdate.trip.tripId  \\\n",
       "0  1672556583_114253564              114253564   \n",
       "0  1672556583_114253883              114253883   \n",
       "0  1672556583_114253884              114253884   \n",
       "0  1672556583_114254175              114254175   \n",
       "0  1672556583_114254183              114254183   \n",
       "\n",
       "  tripUpdate.trip.scheduleRelationship tripUpdate.trip.routeId  \\\n",
       "0                             CANCELED                    101E   \n",
       "0                             CANCELED                    101E   \n",
       "0                             CANCELED                    101E   \n",
       "0                             CANCELED                    101H   \n",
       "0                             CANCELED                    101H   \n",
       "\n",
       "   tripUpdate.trip.directionId tripUpdate.stopTimeUpdate  \\\n",
       "0                            0                      None   \n",
       "0                            1                      None   \n",
       "0                            1                      None   \n",
       "0                            0                      None   \n",
       "0                            0                      None   \n",
       "\n",
       "  tripUpdate.vehicle.id tripUpdate.vehicle.label    header.timestamp  \\\n",
       "0                  None                     None 2023-01-01 07:03:03   \n",
       "0                  None                     None 2023-01-01 07:03:03   \n",
       "0                  None                     None 2023-01-01 07:03:03   \n",
       "0                  None                     None 2023-01-01 07:03:03   \n",
       "0                  None                     None 2023-01-01 07:03:03   \n",
       "\n",
       "                                            filename  \n",
       "0  bus_data_TripUpdate/2023-01-01T00:03:12.767143...  \n",
       "0  bus_data_TripUpdate/2023-01-01T00:03:12.767143...  \n",
       "0  bus_data_TripUpdate/2023-01-01T00:03:12.767143...  \n",
       "0  bus_data_TripUpdate/2023-01-01T00:03:12.767143...  \n",
       "0  bus_data_TripUpdate/2023-01-01T00:03:12.767143...  "
      ]
     },
     "execution_count": 14,
     "metadata": {},
     "output_type": "execute_result"
    }
   ],
   "source": [
    "dask_path = dd.read_parquet(s3_path)\n",
    "dask_path.head()"
   ]
  },
  {
   "cell_type": "code",
   "execution_count": null,
   "metadata": {},
   "outputs": [],
   "source": [
    "# TODO - Aggregate! How?"
   ]
  },
  {
   "cell_type": "code",
   "execution_count": 9,
   "metadata": {},
   "outputs": [],
   "source": [
    "GTFSdata.generate_dask_dataframe = generate_dask_dataframe"
   ]
  },
  {
   "cell_type": "code",
   "execution_count": null,
   "metadata": {},
   "outputs": [],
   "source": []
  }
 ],
 "metadata": {
  "kernelspec": {
   "display_name": "rtd_data_env",
   "language": "python",
   "name": "python3"
  },
  "language_info": {
   "codemirror_mode": {
    "name": "ipython",
    "version": 3
   },
   "file_extension": ".py",
   "mimetype": "text/x-python",
   "name": "python",
   "nbconvert_exporter": "python",
   "pygments_lexer": "ipython3",
   "version": "3.10.6"
  },
  "orig_nbformat": 4
 },
 "nbformat": 4,
 "nbformat_minor": 2
}
